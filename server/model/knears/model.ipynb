{
 "cells": [
  {
   "cell_type": "code",
   "execution_count": 1,
   "metadata": {},
   "outputs": [],
   "source": [
    "import numpy as np\n",
    "import polars as pl\n",
    "import pickle\n",
    "import matplotlib.pyplot as pt\n",
    "from sklearn.metrics import accuracy_score, classification_report, confusion_matrix\n",
    "from sklearn.linear_model import LogisticRegression\n",
    "from sklearn.preprocessing import StandardScaler\n",
    "from sklearn.model_selection import train_test_split\n",
    "from sklearn.neighbors import KNeighborsClassifier"
   ]
  },
  {
   "cell_type": "code",
   "execution_count": 2,
   "metadata": {},
   "outputs": [
    {
     "data": {
      "text/html": [
       "<div><style>\n",
       ".dataframe > thead > tr,\n",
       ".dataframe > tbody > tr {\n",
       "  text-align: right;\n",
       "  white-space: pre-wrap;\n",
       "}\n",
       "</style>\n",
       "<small>shape: (3, 9)</small><table border=\"1\" class=\"dataframe\"><thead><tr><th>temp</th><th>feelsLike</th><th>pressure</th><th>humidity</th><th>clouds</th><th>windSpeed</th><th>windDir</th><th>gustSpeed</th><th>result</th></tr><tr><td>f64</td><td>f64</td><td>f64</td><td>f64</td><td>f64</td><td>f64</td><td>f64</td><td>f64</td><td>i64</td></tr></thead><tbody><tr><td>35.6</td><td>36.9</td><td>978.0</td><td>35.0</td><td>100.0</td><td>3.05</td><td>220.0</td><td>4.0</td><td>1</td></tr><tr><td>34.4</td><td>35.3</td><td>979.0</td><td>37.0</td><td>100.0</td><td>0.78</td><td>144.0</td><td>2.0</td><td>1</td></tr><tr><td>33.3</td><td>34.8</td><td>981.0</td><td>42.0</td><td>100.0</td><td>2.02</td><td>78.0</td><td>2.02</td><td>1</td></tr></tbody></table></div>"
      ],
      "text/plain": [
       "shape: (3, 9)\n",
       "┌──────┬───────────┬──────────┬──────────┬───┬───────────┬─────────┬───────────┬────────┐\n",
       "│ temp ┆ feelsLike ┆ pressure ┆ humidity ┆ … ┆ windSpeed ┆ windDir ┆ gustSpeed ┆ result │\n",
       "│ ---  ┆ ---       ┆ ---      ┆ ---      ┆   ┆ ---       ┆ ---     ┆ ---       ┆ ---    │\n",
       "│ f64  ┆ f64       ┆ f64      ┆ f64      ┆   ┆ f64       ┆ f64     ┆ f64       ┆ i64    │\n",
       "╞══════╪═══════════╪══════════╪══════════╪═══╪═══════════╪═════════╪═══════════╪════════╡\n",
       "│ 35.6 ┆ 36.9      ┆ 978.0    ┆ 35.0     ┆ … ┆ 3.05      ┆ 220.0   ┆ 4.0       ┆ 1      │\n",
       "│ 34.4 ┆ 35.3      ┆ 979.0    ┆ 37.0     ┆ … ┆ 0.78      ┆ 144.0   ┆ 2.0       ┆ 1      │\n",
       "│ 33.3 ┆ 34.8      ┆ 981.0    ┆ 42.0     ┆ … ┆ 2.02      ┆ 78.0    ┆ 2.02      ┆ 1      │\n",
       "└──────┴───────────┴──────────┴──────────┴───┴───────────┴─────────┴───────────┴────────┘"
      ]
     },
     "execution_count": 2,
     "metadata": {},
     "output_type": "execute_result"
    }
   ],
   "source": [
    "file = pl.read_csv(\"../../data/preprocessedData.csv\")\n",
    "file.head(3)"
   ]
  },
  {
   "cell_type": "code",
   "execution_count": 3,
   "metadata": {},
   "outputs": [],
   "source": [
    "x = file.drop(\"result\")\n",
    "y = file['result']"
   ]
  },
  {
   "cell_type": "code",
   "execution_count": 4,
   "metadata": {},
   "outputs": [],
   "source": [
    "x_train, x_test, y_train, y_test = train_test_split(x, y, test_size=0.3, random_state=99)"
   ]
  },
  {
   "cell_type": "code",
   "execution_count": 5,
   "metadata": {},
   "outputs": [],
   "source": [
    "sc = StandardScaler()\n",
    "x_train = sc.fit_transform(x_train)\n",
    "x_test = sc.fit_transform(x_test)"
   ]
  },
  {
   "cell_type": "code",
   "execution_count": 6,
   "metadata": {},
   "outputs": [
    {
     "data": {
      "text/plain": [
       "KNeighborsClassifier(n_neighbors=99)"
      ]
     },
     "execution_count": 6,
     "metadata": {},
     "output_type": "execute_result"
    }
   ],
   "source": [
    "model = KNeighborsClassifier(n_neighbors=99)\n",
    "\n",
    "model.fit(x_train, y_train)"
   ]
  },
  {
   "cell_type": "code",
   "execution_count": 7,
   "metadata": {},
   "outputs": [],
   "source": [
    "y_pred = model.predict(x_test)"
   ]
  },
  {
   "cell_type": "code",
   "execution_count": 8,
   "metadata": {},
   "outputs": [
    {
     "name": "stdout",
     "output_type": "stream",
     "text": [
      "Accuracy: 0.7934131736526946\n",
      "\n",
      "Confusion Matrix:\n",
      "   [[601  74]\n",
      " [202 459]]\n",
      "\n",
      "Classificaion Report:\n",
      "                 precision    recall  f1-score   support\n",
      "\n",
      "           0       0.75      0.89      0.81       675\n",
      "           1       0.86      0.69      0.77       661\n",
      "\n",
      "    accuracy                           0.79      1336\n",
      "   macro avg       0.80      0.79      0.79      1336\n",
      "weighted avg       0.80      0.79      0.79      1336\n",
      "\n"
     ]
    }
   ],
   "source": [
    "accuracy = accuracy_score(y_test, y_pred)\n",
    "classification_report = classification_report(y_test, y_pred)\n",
    "confusion_matrix = confusion_matrix(y_test, y_pred)\n",
    "\n",
    "print(f\"Accuracy: {accuracy}\\n\")\n",
    "print(f\"Confusion Matrix:\\n   {confusion_matrix}\\n\")\n",
    "print(f\"Classificaion Report:\\n   {classification_report}\")"
   ]
  },
  {
   "cell_type": "code",
   "execution_count": 9,
   "metadata": {},
   "outputs": [
    {
     "data": {
      "image/png": "[encoded data removed]",
      "text/plain": [
       "<Figure size 640x480 with 1 Axes>"
      ]
     },
     "metadata": {},
     "output_type": "display_data"
    }
   ],
   "source": [
    "labels = np.array(['True Positive', 'False Positive', 'False Negative', 'True Negative'])\n",
    "values = np.array([confusion_matrix[0][0], confusion_matrix[0][1], confusion_matrix[1][0], confusion_matrix[1][1]])\n",
    "\n",
    "pt.bar(labels, values)\n",
    "pt.xlabel(\"Actual vs Predicted\")\n",
    "pt.ylabel(\"Count\")\n",
    "pt.title(\"KNeighborsClassifier - Confusion Matrix\")\n",
    "pt.savefig(\"confustion_matrix.png\")\n",
    "pt.show()"
   ]
  },
  {
   "cell_type": "code",
   "execution_count": 10,
   "metadata": {},
   "outputs": [],
   "source": [
    "classification_dict = {\n",
    "  \"original\": y_test, \n",
    "  \"predicted\": y_pred\n",
    "}\n",
    "\n",
    "classification_df = pl.DataFrame(classification_dict)\n",
    "\n",
    "classification_df.write_csv(\"classification_report.csv\")"
   ]
  },
  {
   "cell_type": "code",
   "execution_count": 11,
   "metadata": {},
   "outputs": [],
   "source": [
    "with open(\"model.pickle\", \"wb\") as file:\n",
    "  pickle.dump(model, file)"
   ]
  }
 ],
 "metadata": {
  "kernelspec": {
   "display_name": "Python 3",
   "language": "python",
   "name": "python3"
  },
  "language_info": {
   "codemirror_mode": {
    "name": "ipython",
    "version": 3
   },
   "file_extension": ".py",
   "mimetype": "text/x-python",
   "name": "python",
   "nbconvert_exporter": "python",
   "pygments_lexer": "ipython3",
   "version": "3.10.12"
  }
 },
 "nbformat": 4,
 "nbformat_minor": 2
}
