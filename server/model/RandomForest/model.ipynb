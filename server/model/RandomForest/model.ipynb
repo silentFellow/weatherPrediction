{
 "cells": [
  {
   "cell_type": "code",
   "execution_count": 1,
   "metadata": {},
   "outputs": [],
   "source": [
    "from sklearn.metrics import accuracy_score\n",
    "from sklearn.metrics import confusion_matrix\n",
    "from sklearn.tree import export_text\n",
    "import numpy as np\n",
    "import pickle\n",
    "import polars as pl\n",
    "from matplotlib import pyplot as pt\n",
    "from sklearn.ensemble import RandomForestClassifier\n",
    "from sklearn.preprocessing import StandardScaler\n",
    "from sklearn.model_selection import train_test_split"
   ]
  },
  {
   "cell_type": "code",
   "execution_count": 2,
   "metadata": {},
   "outputs": [
    {
     "data": {
      "text/html": [
       "<div><style>\n",
       ".dataframe > thead > tr,\n",
       ".dataframe > tbody > tr {\n",
       "  text-align: right;\n",
       "  white-space: pre-wrap;\n",
       "}\n",
       "</style>\n",
       "<small>shape: (3, 9)</small><table border=\"1\" class=\"dataframe\"><thead><tr><th>temp</th><th>feelsLike</th><th>pressure</th><th>humidity</th><th>clouds</th><th>windSpeed</th><th>windDir</th><th>gustSpeed</th><th>result</th></tr><tr><td>f64</td><td>f64</td><td>f64</td><td>f64</td><td>f64</td><td>f64</td><td>f64</td><td>f64</td><td>i64</td></tr></thead><tbody><tr><td>35.6</td><td>36.9</td><td>978.0</td><td>35.0</td><td>100.0</td><td>3.05</td><td>220.0</td><td>4.0</td><td>1</td></tr><tr><td>34.4</td><td>35.3</td><td>979.0</td><td>37.0</td><td>100.0</td><td>0.78</td><td>144.0</td><td>2.0</td><td>1</td></tr><tr><td>33.3</td><td>34.8</td><td>981.0</td><td>42.0</td><td>100.0</td><td>2.02</td><td>78.0</td><td>2.02</td><td>1</td></tr></tbody></table></div>"
      ],
      "text/plain": [
       "shape: (3, 9)\n",
       "┌──────┬───────────┬──────────┬──────────┬───┬───────────┬─────────┬───────────┬────────┐\n",
       "│ temp ┆ feelsLike ┆ pressure ┆ humidity ┆ … ┆ windSpeed ┆ windDir ┆ gustSpeed ┆ result │\n",
       "│ ---  ┆ ---       ┆ ---      ┆ ---      ┆   ┆ ---       ┆ ---     ┆ ---       ┆ ---    │\n",
       "│ f64  ┆ f64       ┆ f64      ┆ f64      ┆   ┆ f64       ┆ f64     ┆ f64       ┆ i64    │\n",
       "╞══════╪═══════════╪══════════╪══════════╪═══╪═══════════╪═════════╪═══════════╪════════╡\n",
       "│ 35.6 ┆ 36.9      ┆ 978.0    ┆ 35.0     ┆ … ┆ 3.05      ┆ 220.0   ┆ 4.0       ┆ 1      │\n",
       "│ 34.4 ┆ 35.3      ┆ 979.0    ┆ 37.0     ┆ … ┆ 0.78      ┆ 144.0   ┆ 2.0       ┆ 1      │\n",
       "│ 33.3 ┆ 34.8      ┆ 981.0    ┆ 42.0     ┆ … ┆ 2.02      ┆ 78.0    ┆ 2.02      ┆ 1      │\n",
       "└──────┴───────────┴──────────┴──────────┴───┴───────────┴─────────┴───────────┴────────┘"
      ]
     },
     "execution_count": 2,
     "metadata": {},
     "output_type": "execute_result"
    }
   ],
   "source": [
    "file = pl.read_csv(\"../../data/preprocessedData.csv\")\n",
    "file.head(3)"
   ]
  },
  {
   "cell_type": "code",
   "execution_count": 3,
   "metadata": {},
   "outputs": [],
   "source": [
    "x = file.drop('result')\n",
    "y = file['result']"
   ]
  },
  {
   "cell_type": "code",
   "execution_count": 4,
   "metadata": {},
   "outputs": [],
   "source": [
    "x_train, x_test ,y_train ,y_test = train_test_split(x,y,test_size=0.3,random_state=99)"
   ]
  },
  {
   "cell_type": "code",
   "execution_count": 5,
   "metadata": {},
   "outputs": [],
   "source": [
    "sc = StandardScaler()\n",
    "x_train = sc.fit_transform(x_train)\n",
    "x_test = sc.fit_transform(x_test)"
   ]
  },
  {
   "cell_type": "code",
   "execution_count": 6,
   "metadata": {},
   "outputs": [
    {
     "data": {
      "text/plain": [
       "RandomForestClassifier(n_estimators=99, random_state=99)"
      ]
     },
     "execution_count": 6,
     "metadata": {},
     "output_type": "execute_result"
    }
   ],
   "source": [
    "randomForestClassifier = RandomForestClassifier(n_estimators=99, random_state=99)\n",
    "randomForestClassifier.fit(x_train, y_train)"
   ]
  },
  {
   "cell_type": "code",
   "execution_count": 7,
   "metadata": {},
   "outputs": [
    {
     "data": {
      "text/plain": [
       "array([[-0.29762375, -0.26996059,  0.08060794, ...,  0.2304302 ,\n",
       "         0.24420818, -0.21076516],\n",
       "       [ 0.78918553,  1.46235135, -0.24303505, ..., -1.14953837,\n",
       "        -1.90674825, -0.21076516],\n",
       "       [ 0.3779604 ,  0.33057422, -0.24303505, ...,  0.75226706,\n",
       "        -0.22394116,  0.48096415],\n",
       "       ...,\n",
       "       [-0.12138441,  0.23818425,  1.77973366, ...,  2.88020179,\n",
       "         0.13033402,  2.21028744],\n",
       "       [-0.76759533, -0.87049539,  0.16151869, ..., -0.94660181,\n",
       "        -0.38842606, -1.19647943],\n",
       "       [-0.00389151,  0.14579428, -1.29487478, ...,  1.34368216,\n",
       "         0.21890281,  0.34261829]])"
      ]
     },
     "execution_count": 7,
     "metadata": {},
     "output_type": "execute_result"
    }
   ],
   "source": [
    "x_test"
   ]
  },
  {
   "cell_type": "code",
   "execution_count": 8,
   "metadata": {},
   "outputs": [],
   "source": [
    "predict = randomForestClassifier.predict(x_test)\n",
    "\n",
    "column_dict = {\n",
    "  \"original\": y_test, \n",
    "  \"predicted\": predict\n",
    "}\n",
    "\n",
    "prediction_csv = pl.DataFrame(column_dict)\n",
    "\n",
    "prediction_csv.write_csv(\"prediction_result.csv\")"
   ]
  },
  {
   "cell_type": "code",
   "execution_count": 9,
   "metadata": {},
   "outputs": [
    {
     "name": "stdout",
     "output_type": "stream",
     "text": [
      "Accuracy_score: 0.8922155688622755\n",
      "\n",
      "Confusion Matrix: \n",
      " [[617  86]\n",
      " [ 58 575]]\n"
     ]
    }
   ],
   "source": [
    "accuracy = accuracy_score(predict, y_test)\n",
    "confusion_matrix = confusion_matrix(predict, y_test)\n",
    "\n",
    "print(f'Accuracy_score: {accuracy}')\n",
    "print(f'\\nConfusion Matrix: \\n {confusion_matrix}')"
   ]
  },
  {
   "cell_type": "code",
   "execution_count": 10,
   "metadata": {},
   "outputs": [
    {
     "data": {
      "image/png": "[encoded data removed]",
      "text/plain": [
       "<Figure size 640x480 with 1 Axes>"
      ]
     },
     "metadata": {},
     "output_type": "display_data"
    }
   ],
   "source": [
    "labels = np.array(['True Positive', 'False Positive', 'False Negative', 'True Negative'])\n",
    "values = np.array([confusion_matrix[0][0], confusion_matrix[0][1], confusion_matrix[1][0], confusion_matrix[1][1]])\n",
    "\n",
    "pt.bar(labels, values)\n",
    "pt.xlabel(\"Actual vs Predicted\")\n",
    "pt.ylabel(\"Count\")\n",
    "pt.title(\"Confusion Matrix\")\n",
    "pt.show()"
   ]
  },
  {
   "cell_type": "code",
   "execution_count": 11,
   "metadata": {},
   "outputs": [],
   "source": [
    "for i in range(0, 99):\n",
    "  estimator = randomForestClassifier.estimators_[i]\n",
    "  tree_rules = export_text(estimator, feature_names=list(x.columns))\n",
    "  with open(\"trueRules.txt\", 'a') as file:\n",
    "    file.write(f\"Tree {i+1} Rules: /n/n\")\n",
    "    file.write(tree_rules + \"/n/n/n\")"
   ]
  },
  {
   "cell_type": "code",
   "execution_count": 12,
   "metadata": {},
   "outputs": [],
   "source": [
    "with open(\"model.pickle\", 'wb') as file:\n",
    "  pickle.dump(randomForestClassifier, file)"
   ]
  }
 ],
 "metadata": {
  "kernelspec": {
   "display_name": "Python 3",
   "language": "python",
   "name": "python3"
  },
  "language_info": {
   "codemirror_mode": {
    "name": "ipython",
    "version": 3
   },
   "file_extension": ".py",
   "mimetype": "text/x-python",
   "name": "python",
   "nbconvert_exporter": "python",
   "pygments_lexer": "ipython3",
   "version": "3.10.12"
  }
 },
 "nbformat": 4,
 "nbformat_minor": 2
}
