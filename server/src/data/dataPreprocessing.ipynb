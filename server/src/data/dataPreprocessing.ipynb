{
 "cells": [
  {
   "cell_type": "code",
   "execution_count": 1,
   "metadata": {},
   "outputs": [],
   "source": [
    "import numpy as np\n",
    "import polars as pl"
   ]
  },
  {
   "cell_type": "code",
   "execution_count": 2,
   "metadata": {},
   "outputs": [
    {
     "data": {
      "text/plain": [
       "(19703, 10)"
      ]
     },
     "execution_count": 2,
     "metadata": {},
     "output_type": "execute_result"
    }
   ],
   "source": [
    "file = pl.read_csv(\"rawData.csv\")\n",
    "file.shape"
   ]
  },
  {
   "cell_type": "code",
   "execution_count": 52,
   "metadata": {},
   "outputs": [
    {
     "data": {
      "text/html": [
       "<div><style>\n",
       ".dataframe > thead > tr > th,\n",
       ".dataframe > tbody > tr > td {\n",
       "  text-align: right;\n",
       "  white-space: pre-wrap;\n",
       "}\n",
       "</style>\n",
       "<small>shape: (1, 9)</small><table border=\"1\" class=\"dataframe\"><thead><tr><th>temp</th><th>feelsLike</th><th>pressure</th><th>humidity</th><th>clouds</th><th>windSpeed</th><th>windDir</th><th>gustSpeed</th><th>result</th></tr><tr><td>f64</td><td>f64</td><td>f64</td><td>f64</td><td>f64</td><td>f64</td><td>f64</td><td>f64</td><td>str</td></tr></thead><tbody><tr><td>25.3</td><td>25.8</td><td>982.0</td><td>74.0</td><td>25.0</td><td>3.04</td><td>242.0</td><td>4.0</td><td>&quot;Scattered clou…</td></tr></tbody></table></div>"
      ],
      "text/plain": [
       "shape: (1, 9)\n",
       "┌──────┬───────────┬──────────┬──────────┬───┬───────────┬─────────┬───────────┬──────────────────┐\n",
       "│ temp ┆ feelsLike ┆ pressure ┆ humidity ┆ … ┆ windSpeed ┆ windDir ┆ gustSpeed ┆ result           │\n",
       "│ ---  ┆ ---       ┆ ---      ┆ ---      ┆   ┆ ---       ┆ ---     ┆ ---       ┆ ---              │\n",
       "│ f64  ┆ f64       ┆ f64      ┆ f64      ┆   ┆ f64       ┆ f64     ┆ f64       ┆ str              │\n",
       "╞══════╪═══════════╪══════════╪══════════╪═══╪═══════════╪═════════╪═══════════╪══════════════════╡\n",
       "│ 25.3 ┆ 25.8      ┆ 982.0    ┆ 74.0     ┆ … ┆ 3.04      ┆ 242.0   ┆ 4.0       ┆ Scattered clouds │\n",
       "└──────┴───────────┴──────────┴──────────┴───┴───────────┴─────────┴───────────┴──────────────────┘"
      ]
     },
     "execution_count": 52,
     "metadata": {},
     "output_type": "execute_result"
    }
   ],
   "source": [
    "file = file.drop('cityName')\n",
    "file.head(1)"
   ]
  },
  {
   "cell_type": "code",
   "execution_count": 53,
   "metadata": {},
   "outputs": [
    {
     "data": {
      "text/html": [
       "<div><style>\n",
       ".dataframe > thead > tr > th,\n",
       ".dataframe > tbody > tr > td {\n",
       "  text-align: right;\n",
       "  white-space: pre-wrap;\n",
       "}\n",
       "</style>\n",
       "<small>shape: (1, 9)</small><table border=\"1\" class=\"dataframe\"><thead><tr><th>temp</th><th>feelsLike</th><th>pressure</th><th>humidity</th><th>clouds</th><th>windSpeed</th><th>windDir</th><th>gustSpeed</th><th>result</th></tr><tr><td>u32</td><td>u32</td><td>u32</td><td>u32</td><td>u32</td><td>u32</td><td>u32</td><td>u32</td><td>u32</td></tr></thead><tbody><tr><td>0</td><td>0</td><td>0</td><td>0</td><td>0</td><td>0</td><td>0</td><td>0</td><td>0</td></tr></tbody></table></div>"
      ],
      "text/plain": [
       "shape: (1, 9)\n",
       "┌──────┬───────────┬──────────┬──────────┬───┬───────────┬─────────┬───────────┬────────┐\n",
       "│ temp ┆ feelsLike ┆ pressure ┆ humidity ┆ … ┆ windSpeed ┆ windDir ┆ gustSpeed ┆ result │\n",
       "│ ---  ┆ ---       ┆ ---      ┆ ---      ┆   ┆ ---       ┆ ---     ┆ ---       ┆ ---    │\n",
       "│ u32  ┆ u32       ┆ u32      ┆ u32      ┆   ┆ u32       ┆ u32     ┆ u32       ┆ u32    │\n",
       "╞══════╪═══════════╪══════════╪══════════╪═══╪═══════════╪═════════╪═══════════╪════════╡\n",
       "│ 0    ┆ 0         ┆ 0        ┆ 0        ┆ … ┆ 0         ┆ 0       ┆ 0         ┆ 0      │\n",
       "└──────┴───────────┴──────────┴──────────┴───┴───────────┴─────────┴───────────┴────────┘"
      ]
     },
     "execution_count": 53,
     "metadata": {},
     "output_type": "execute_result"
    }
   ],
   "source": [
    "file.null_count()"
   ]
  },
  {
   "cell_type": "code",
   "execution_count": 54,
   "metadata": {},
   "outputs": [
    {
     "data": {
      "text/plain": [
       "array(['Heavy rain', 'Fog', 'Overcast clouds', 'Broken clouds',\n",
       "       'Thunderstorm with heavy rain', 'Moderate rain',\n",
       "       'Scattered clouds', 'Haze', 'Light rain', 'Few clouds',\n",
       "       'Clear Sky'], dtype='<U28')"
      ]
     },
     "execution_count": 54,
     "metadata": {},
     "output_type": "execute_result"
    }
   ],
   "source": [
    "resUnique = np.array(file['result'].unique())\n",
    "resUnique"
   ]
  },
  {
   "cell_type": "code",
   "execution_count": 55,
   "metadata": {},
   "outputs": [
    {
     "data": {
      "text/html": [
       "<div><style>\n",
       ".dataframe > thead > tr > th,\n",
       ".dataframe > tbody > tr > td {\n",
       "  text-align: right;\n",
       "  white-space: pre-wrap;\n",
       "}\n",
       "</style>\n",
       "<small>shape: (3, 9)</small><table border=\"1\" class=\"dataframe\"><thead><tr><th>temp</th><th>feelsLike</th><th>pressure</th><th>humidity</th><th>clouds</th><th>windSpeed</th><th>windDir</th><th>gustSpeed</th><th>result</th></tr><tr><td>f64</td><td>f64</td><td>f64</td><td>f64</td><td>f64</td><td>f64</td><td>f64</td><td>f64</td><td>str</td></tr></thead><tbody><tr><td>25.3</td><td>25.8</td><td>982.0</td><td>74.0</td><td>25.0</td><td>3.04</td><td>242.0</td><td>4.0</td><td>&quot;no rain&quot;</td></tr><tr><td>25.3</td><td>25.9</td><td>982.0</td><td>74.0</td><td>25.0</td><td>2.38</td><td>232.0</td><td>3.0</td><td>&quot;no rain&quot;</td></tr><tr><td>26.0</td><td>26.5</td><td>983.0</td><td>71.0</td><td>25.0</td><td>3.02</td><td>241.0</td><td>3.02</td><td>&quot;no rain&quot;</td></tr></tbody></table></div>"
      ],
      "text/plain": [
       "shape: (3, 9)\n",
       "┌──────┬───────────┬──────────┬──────────┬───┬───────────┬─────────┬───────────┬─────────┐\n",
       "│ temp ┆ feelsLike ┆ pressure ┆ humidity ┆ … ┆ windSpeed ┆ windDir ┆ gustSpeed ┆ result  │\n",
       "│ ---  ┆ ---       ┆ ---      ┆ ---      ┆   ┆ ---       ┆ ---     ┆ ---       ┆ ---     │\n",
       "│ f64  ┆ f64       ┆ f64      ┆ f64      ┆   ┆ f64       ┆ f64     ┆ f64       ┆ str     │\n",
       "╞══════╪═══════════╪══════════╪══════════╪═══╪═══════════╪═════════╪═══════════╪═════════╡\n",
       "│ 25.3 ┆ 25.8      ┆ 982.0    ┆ 74.0     ┆ … ┆ 3.04      ┆ 242.0   ┆ 4.0       ┆ no rain │\n",
       "│ 25.3 ┆ 25.9      ┆ 982.0    ┆ 74.0     ┆ … ┆ 2.38      ┆ 232.0   ┆ 3.0       ┆ no rain │\n",
       "│ 26.0 ┆ 26.5      ┆ 983.0    ┆ 71.0     ┆ … ┆ 3.02      ┆ 241.0   ┆ 3.02      ┆ no rain │\n",
       "└──────┴───────────┴──────────┴──────────┴───┴───────────┴─────────┴───────────┴─────────┘"
      ]
     },
     "execution_count": 55,
     "metadata": {},
     "output_type": "execute_result"
    }
   ],
   "source": [
    "file = file.with_columns(\n",
    "  pl.when(pl.col('result') == 'Scattered clouds').then(pl.lit('no rain'))\n",
    "  .when(pl.col('result') == 'Clear Sky').then(pl.lit('no rain'))\n",
    "  .when(pl.col('result') == 'Few clouds').then(pl.lit('no rain'))\n",
    "  .when(pl.col('result') == 'Haze').then(pl.lit('no rain'))\n",
    "  .when(pl.col('result') == 'Overcast clouds').then(pl.lit('no rain'))\n",
    "  .when(pl.col('result') == 'Fog').then(pl.lit('no rain'))\n",
    "  .when(pl.col('result') == 'Broken clouds').then(pl.lit('no rain'))\n",
    "  .when(pl.col('result') == 'Moderate rain').then(pl.lit('rain'))\n",
    "  .when(pl.col('result') == 'Thunderstorm with heavy rain').then(pl.lit('rain'))\n",
    "  .when(pl.col('result') == 'Light rain').then(pl.lit('rain'))\n",
    "  .when(pl.col('result') == 'Heavy rain').then(pl.lit('rain')).alias(\"result\")\n",
    ")\n",
    "\n",
    "file.head(3)"
   ]
  },
  {
   "cell_type": "code",
   "execution_count": 56,
   "metadata": {},
   "outputs": [
    {
     "data": {
      "text/html": [
       "<div><style>\n",
       ".dataframe > thead > tr > th,\n",
       ".dataframe > tbody > tr > td {\n",
       "  text-align: right;\n",
       "  white-space: pre-wrap;\n",
       "}\n",
       "</style>\n",
       "<small>shape: (3, 9)</small><table border=\"1\" class=\"dataframe\"><thead><tr><th>temp</th><th>feelsLike</th><th>pressure</th><th>humidity</th><th>clouds</th><th>windSpeed</th><th>windDir</th><th>gustSpeed</th><th>result</th></tr><tr><td>f64</td><td>f64</td><td>f64</td><td>f64</td><td>f64</td><td>f64</td><td>f64</td><td>f64</td><td>i32</td></tr></thead><tbody><tr><td>25.3</td><td>25.8</td><td>982.0</td><td>74.0</td><td>25.0</td><td>3.04</td><td>242.0</td><td>4.0</td><td>0</td></tr><tr><td>25.3</td><td>25.9</td><td>982.0</td><td>74.0</td><td>25.0</td><td>2.38</td><td>232.0</td><td>3.0</td><td>0</td></tr><tr><td>26.0</td><td>26.5</td><td>983.0</td><td>71.0</td><td>25.0</td><td>3.02</td><td>241.0</td><td>3.02</td><td>0</td></tr></tbody></table></div>"
      ],
      "text/plain": [
       "shape: (3, 9)\n",
       "┌──────┬───────────┬──────────┬──────────┬───┬───────────┬─────────┬───────────┬────────┐\n",
       "│ temp ┆ feelsLike ┆ pressure ┆ humidity ┆ … ┆ windSpeed ┆ windDir ┆ gustSpeed ┆ result │\n",
       "│ ---  ┆ ---       ┆ ---      ┆ ---      ┆   ┆ ---       ┆ ---     ┆ ---       ┆ ---    │\n",
       "│ f64  ┆ f64       ┆ f64      ┆ f64      ┆   ┆ f64       ┆ f64     ┆ f64       ┆ i32    │\n",
       "╞══════╪═══════════╪══════════╪══════════╪═══╪═══════════╪═════════╪═══════════╪════════╡\n",
       "│ 25.3 ┆ 25.8      ┆ 982.0    ┆ 74.0     ┆ … ┆ 3.04      ┆ 242.0   ┆ 4.0       ┆ 0      │\n",
       "│ 25.3 ┆ 25.9      ┆ 982.0    ┆ 74.0     ┆ … ┆ 2.38      ┆ 232.0   ┆ 3.0       ┆ 0      │\n",
       "│ 26.0 ┆ 26.5      ┆ 983.0    ┆ 71.0     ┆ … ┆ 3.02      ┆ 241.0   ┆ 3.02      ┆ 0      │\n",
       "└──────┴───────────┴──────────┴──────────┴───┴───────────┴─────────┴───────────┴────────┘"
      ]
     },
     "execution_count": 56,
     "metadata": {},
     "output_type": "execute_result"
    }
   ],
   "source": [
    "file = file.with_columns(\n",
    "  pl.when(pl.col('result') == 'no rain').then(0)\n",
    "  .when(pl.col('result') == 'rain').then(1).alias('result')\n",
    ")25.8\t982.0\t74.0\t25.0\t3.25.8\t982.0\t74.0\t25.0\t3.04\t242.0\t4.0\t\"no rain\"\n",
    "25.3\t25.9\t982.0\t74.0\t25.0\t2.38\t232.0\t3.0\t\"no rain\"\n",
    "26.0\t26.5\t983.0\t04\t242.0\t4.0\t\"no rain\"\n",
    "25.3\t25.9\t982.0\t74.0\t25.0\t2.38\t232.0\t3.0\t\"no rain\"\n",
    "26.0\t26.5\t983.0\t\n",
    "file.head(3)"
   ]
  },
  {
   "cell_type": "code",
   "execution_count": 57,
   "metadata": {},
   "outputs": [
    {
     "data": {
      "text/html": [
       "<div><style>\n",
       ".dataframe > thead > tr > th,\n",
       ".dataframe > tbody > tr > td {\n",
       "  text-align: right;\n",
       "  white-space: pre-wrap;\n",
       "}\n",
       "</style>\n",
       "<small>shape: (2,)</small><table border=\"1\" class=\"dataframe\"><thead><tr><th>result</th></tr><tr><td>i32</td></tr></thead><tbody><tr><td>0</td></tr><tr><td>1</td></tr></tbody></table></div>"
      ],
      "text/plain": [
       "shape: (2,)\n",
       "Series: 'result' [i32]\n",
       "[\n",
       "\t0\n",
       "\t1\n",
       "]"
      ]
     },
     "execution_count": 57,
     "metadata": {},
     "output_type": "execute_result"
    }
   ],
   "source": [
    "file['result'].unique()"
   ]
  },
  {
   "cell_type": "code",
   "execution_count": 58,
   "metadata": {},
   "outputs": [
    {
     "data": {
      "text/html": [
       "<div><style>\n",
       ".dataframe > thead > tr > th,\n",
       ".dataframe > tbody > tr > td {\n",
       "  text-align: right;\n",
       "  white-space: pre-wrap;\n",
       "}\n",
       "</style>\n",
       "<small>shape: (3, 9)</small><table border=\"1\" class=\"dataframe\"><thead><tr><th>temp</th><th>feelsLike</th><th>pressure</th><th>humidity</th><th>clouds</th><th>windSpeed</th><th>windDir</th><th>gustSpeed</th><th>result</th></tr><tr><td>f64</td><td>f64</td><td>f64</td><td>f64</td><td>f64</td><td>f64</td><td>f64</td><td>f64</td><td>i32</td></tr></thead><tbody><tr><td>25.3</td><td>25.8</td><td>982.0</td><td>74.0</td><td>25.0</td><td>3.04</td><td>242.0</td><td>4.0</td><td>0</td></tr><tr><td>25.3</td><td>25.9</td><td>982.0</td><td>74.0</td><td>25.0</td><td>2.38</td><td>232.0</td><td>3.0</td><td>0</td></tr><tr><td>26.0</td><td>26.5</td><td>983.0</td><td>71.0</td><td>25.0</td><td>3.02</td><td>241.0</td><td>3.02</td><td>0</td></tr></tbody></table></div>"
      ],
      "text/plain": [
       "shape: (3, 9)\n",
       "┌──────┬───────────┬──────────┬──────────┬───┬───────────┬─────────┬───────────┬────────┐\n",
       "│ temp ┆ feelsLike ┆ pressure ┆ humidity ┆ … ┆ windSpeed ┆ windDir ┆ gustSpeed ┆ result │\n",
       "│ ---  ┆ ---       ┆ ---      ┆ ---      ┆   ┆ ---       ┆ ---     ┆ ---       ┆ ---    │\n",
       "│ f64  ┆ f64       ┆ f64      ┆ f64      ┆   ┆ f64       ┆ f64     ┆ f64       ┆ i32    │\n",
       "╞══════╪═══════════╪══════════╪══════════╪═══╪═══════════╪═════════╪═══════════╪════════╡\n",
       "│ 25.3 ┆ 25.8      ┆ 982.0    ┆ 74.0     ┆ … ┆ 3.04      ┆ 242.0   ┆ 4.0       ┆ 0      │\n",
       "│ 25.3 ┆ 25.9      ┆ 982.0    ┆ 74.0     ┆ … ┆ 2.38      ┆ 232.0   ┆ 3.0       ┆ 0      │\n",
       "│ 26.0 ┆ 26.5      ┆ 983.0    ┆ 71.0     ┆ … ┆ 3.02      ┆ 241.0   ┆ 3.02      ┆ 0      │\n",
       "└──────┴───────────┴──────────┴──────────┴───┴───────────┴─────────┴───────────┴────────┘"
      ]
     },
     "execution_count": 58,
     "metadata": {},
     "output_type": "execute_result"
    }
   ],
   "source": [
    "rainData = file.filter(pl.col('result') == 0)\n",
    "norainData = file.filter(pl.col('result') == 1)\n",
    "\n",
    "writeableDf = pl.DataFrame()\n",
    "writeableDf = pl.concat([writeableDf, norainData])\n",
    "writeableDf = pl.concat([writeableDf, rainData[0: 2226]])\n",
    "writeableDf\n",
    "\n",
    "file.head(3)"
   ]
  },
  {
   "cell_type": "code",
   "execution_count": 59,
   "metadata": {},
   "outputs": [],
   "source": [
    "writeableDf.write_csv(\"preprocessedData.csv\")"
   ]
  },
  {
   "cell_type": "code",
   "execution_count": null,
   "metadata": {},
   "outputs": [],
   "source": []
  }
 ],
 "metadata": {
  "kernelspec": {
   "display_name": "Python 3",
   "language": "python",
   "name": "python3"
  },
  "language_info": {
   "codemirror_mode": {
    "name": "ipython",
    "version": 3
   },
   "file_extension": ".py",
   "mimetype": "text/x-python",
   "name": "python",
   "nbconvert_exporter": "python",
   "pygments_lexer": "ipython3",
   "version": "3.10.12"
  }
 },
 "nbformat": 4,
 "nbformat_minor": 2
}
